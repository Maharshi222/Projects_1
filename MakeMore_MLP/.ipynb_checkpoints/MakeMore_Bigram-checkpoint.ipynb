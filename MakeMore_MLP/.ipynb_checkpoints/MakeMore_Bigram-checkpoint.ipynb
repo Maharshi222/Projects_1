{
 "cells": [
  {
   "cell_type": "code",
   "execution_count": 1,
   "id": "630f5453-b82a-4880-97ba-50588ba5f3fb",
   "metadata": {},
   "outputs": [
    {
     "name": "stdout",
     "output_type": "stream",
     "text": [
      "Requirement already satisfied: matplotlib in c:\\users\\maharshi.nimavat\\appdata\\local\\anaconda3\\lib\\site-packages (3.8.4)Note: you may need to restart the kernel to use updated packages.\n",
      "\n",
      "Requirement already satisfied: contourpy>=1.0.1 in c:\\users\\maharshi.nimavat\\appdata\\local\\anaconda3\\lib\\site-packages (from matplotlib) (1.2.0)\n",
      "Requirement already satisfied: cycler>=0.10 in c:\\users\\maharshi.nimavat\\appdata\\local\\anaconda3\\lib\\site-packages (from matplotlib) (0.11.0)\n",
      "Requirement already satisfied: fonttools>=4.22.0 in c:\\users\\maharshi.nimavat\\appdata\\local\\anaconda3\\lib\\site-packages (from matplotlib) (4.51.0)\n",
      "Requirement already satisfied: kiwisolver>=1.3.1 in c:\\users\\maharshi.nimavat\\appdata\\local\\anaconda3\\lib\\site-packages (from matplotlib) (1.4.4)\n",
      "Requirement already satisfied: numpy>=1.21 in c:\\users\\maharshi.nimavat\\appdata\\local\\anaconda3\\lib\\site-packages (from matplotlib) (1.26.4)\n",
      "Requirement already satisfied: packaging>=20.0 in c:\\users\\maharshi.nimavat\\appdata\\local\\anaconda3\\lib\\site-packages (from matplotlib) (23.2)\n",
      "Requirement already satisfied: pillow>=8 in c:\\users\\maharshi.nimavat\\appdata\\local\\anaconda3\\lib\\site-packages (from matplotlib) (10.3.0)\n",
      "Requirement already satisfied: pyparsing>=2.3.1 in c:\\users\\maharshi.nimavat\\appdata\\local\\anaconda3\\lib\\site-packages (from matplotlib) (3.0.9)\n",
      "Requirement already satisfied: python-dateutil>=2.7 in c:\\users\\maharshi.nimavat\\appdata\\local\\anaconda3\\lib\\site-packages (from matplotlib) (2.9.0.post0)\n",
      "Requirement already satisfied: six>=1.5 in c:\\users\\maharshi.nimavat\\appdata\\local\\anaconda3\\lib\\site-packages (from python-dateutil>=2.7->matplotlib) (1.16.0)\n"
     ]
    }
   ],
   "source": [
    "pip install matplotlib"
   ]
  },
  {
   "cell_type": "code",
   "execution_count": 2,
   "id": "a08ddd8a-dbfe-423a-8d33-a1277ac1b9a0",
   "metadata": {},
   "outputs": [],
   "source": [
    "words = open('names.txt', 'r').read().splitlines()"
   ]
  },
  {
   "cell_type": "code",
   "execution_count": 3,
   "id": "60cca0d3-6e40-4b96-a06d-edb974cef3d1",
   "metadata": {},
   "outputs": [
    {
     "data": {
      "text/plain": [
       "['emma',\n",
       " 'olivia',\n",
       " 'ava',\n",
       " 'isabella',\n",
       " 'sophia',\n",
       " 'charlotte',\n",
       " 'mia',\n",
       " 'amelia',\n",
       " 'harper',\n",
       " 'evelyn']"
      ]
     },
     "execution_count": 3,
     "metadata": {},
     "output_type": "execute_result"
    }
   ],
   "source": [
    "words[:10]"
   ]
  },
  {
   "cell_type": "code",
   "execution_count": null,
   "id": "583ba254-67ae-4a1a-9a21-8c540cbaca6a",
   "metadata": {},
   "outputs": [],
   "source": [
    "len(words)"
   ]
  },
  {
   "cell_type": "code",
   "execution_count": null,
   "id": "cb230e2f-3852-4980-9923-fcb3e3a0548d",
   "metadata": {},
   "outputs": [],
   "source": [
    "min(len(w) for w in words)"
   ]
  },
  {
   "cell_type": "code",
   "execution_count": null,
   "id": "2a9071fc-9722-45b8-8fd5-025e2c5ee5ff",
   "metadata": {},
   "outputs": [],
   "source": [
    "max(len(w) for w in words)"
   ]
  },
  {
   "cell_type": "code",
   "execution_count": null,
   "id": "945efa73-d9fb-46cc-9c6e-317f77624d56",
   "metadata": {},
   "outputs": [],
   "source": [
    "b = {}\n",
    "for w in words:\n",
    "    chs = ['<S>'] + list(w) + ['<E>']\n",
    "    for ch1, ch2 in zip(chs,chs[1:]):\n",
    "        bigram = (ch1,ch2)\n",
    "        b[bigram] = b.get(bigram,0) +1"
   ]
  },
  {
   "cell_type": "code",
   "execution_count": null,
   "id": "14bb0541-f437-4f3d-9e8c-f5cafbede216",
   "metadata": {},
   "outputs": [],
   "source": [
    "w, list(w)"
   ]
  },
  {
   "cell_type": "code",
   "execution_count": null,
   "id": "4964a830-4b92-447d-a5eb-05b3fce60a07",
   "metadata": {},
   "outputs": [],
   "source": [
    "sorted(b.items(),key = lambda kv: -kv[1])"
   ]
  },
  {
   "cell_type": "code",
   "execution_count": null,
   "id": "8c9a9e6f-a4c9-496c-be65-25cf0c3b01b5",
   "metadata": {},
   "outputs": [],
   "source": [
    "import torch"
   ]
  },
  {
   "cell_type": "code",
   "execution_count": null,
   "id": "5e3b7f38-16a8-49c2-992c-6ec6f9778235",
   "metadata": {},
   "outputs": [],
   "source": [
    "N = torch.zeros((28,28), dtype = torch.int32)"
   ]
  },
  {
   "cell_type": "code",
   "execution_count": null,
   "id": "d8aecceb-dd74-4e09-84ff-99197368da71",
   "metadata": {},
   "outputs": [],
   "source": [
    "chars = sorted(list(set(''.join(words)) ))\n",
    "stoi = {s:i for i,s in enumerate(chars)}"
   ]
  },
  {
   "cell_type": "code",
   "execution_count": null,
   "id": "9eb41702-dea6-4d71-a5b3-af62d442d12d",
   "metadata": {},
   "outputs": [],
   "source": [
    "stoi['<S>'] = 26\n",
    "stoi['<E>'] = 27\n",
    "stoi"
   ]
  },
  {
   "cell_type": "code",
   "execution_count": null,
   "id": "4d2e1760-31af-42db-a31c-a34b7be1a3bf",
   "metadata": {},
   "outputs": [],
   "source": [
    "for w in words:#we need integers instead of list characters\n",
    "    chs = ['<S>'] + list(w) + ['<E>']\n",
    "    for ch1, ch2 in zip(chs,chs[1:]):\n",
    "        ix1 = stoi[ch1]\n",
    "        ix2 = stoi[ch2]\n",
    "        N[ix1, ix2] += 1\n",
    "        "
   ]
  },
  {
   "cell_type": "code",
   "execution_count": null,
   "id": "84b0a9d7-91fc-49f3-84f3-ccdb2bcbf89c",
   "metadata": {},
   "outputs": [],
   "source": [
    "itos = {i:s for s,i in stoi.items()}\n"
   ]
  },
  {
   "cell_type": "code",
   "execution_count": null,
   "id": "e742a79f-92ff-4a47-afbd-097ed321f334",
   "metadata": {},
   "outputs": [],
   "source": [
    "import matplotlib.pyplot as plt\n",
    "%matplotlib inline\n",
    "\n",
    "plt.figure(figsize=(8,8))\n",
    "plt.imshow(N, cmap = 'Blues')\n",
    "for i in range(28):\n",
    "    for j in range(28):\n",
    "        chstr = itos[i] + itos[j]\n",
    "#        plt.text(j,i,chstr, ha=\"center\", va=\"bottom\", color = 'gray')\n",
    "#        plt.text(j,i, N[i,j].item(), ha=\"center\", va=\"top\", color='gray')\n",
    "plt.axis('off');"
   ]
  },
  {
   "cell_type": "code",
   "execution_count": null,
   "id": "91afdc67-78c6-437a-837a-66e1e77fa66f",
   "metadata": {},
   "outputs": [],
   "source": [
    "import matplotlib.pyplot as plt\n",
    "%matplotlib inline\n",
    "N_small = N[:10, :10]  # Plot a smaller section of N\n",
    "plt.imshow(N_small, cmap='Blues')\n"
   ]
  },
  {
   "cell_type": "code",
   "execution_count": null,
   "id": "ffe63928-3b2d-460b-a4d5-bf26a77c983c",
   "metadata": {},
   "outputs": [],
   "source": [
    "print(N.shape)\n",
    "print(len(itos))\n"
   ]
  },
  {
   "cell_type": "code",
   "execution_count": null,
   "id": "4d96ce31-e2ff-4747-8b7e-7616d044b0cd",
   "metadata": {},
   "outputs": [],
   "source": []
  }
 ],
 "metadata": {
  "kernelspec": {
   "display_name": "Python 3 (ipykernel)",
   "language": "python",
   "name": "python3"
  },
  "language_info": {
   "codemirror_mode": {
    "name": "ipython",
    "version": 3
   },
   "file_extension": ".py",
   "mimetype": "text/x-python",
   "name": "python",
   "nbconvert_exporter": "python",
   "pygments_lexer": "ipython3",
   "version": "3.12.3"
  }
 },
 "nbformat": 4,
 "nbformat_minor": 5
}
